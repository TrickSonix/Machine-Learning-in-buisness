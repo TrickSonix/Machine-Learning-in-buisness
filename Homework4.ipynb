{
 "cells": [
  {
   "cell_type": "code",
   "execution_count": 77,
   "metadata": {},
   "outputs": [],
   "source": [
    "import pandas as pd\n",
    "import numpy as np\n",
    "import matplotlib.pyplot as plt"
   ]
  },
  {
   "cell_type": "code",
   "execution_count": 78,
   "metadata": {},
   "outputs": [],
   "source": [
    "data = pd.read_csv('Data/my_PJME_MW.csv', index_col=[0], parse_dates=[0])"
   ]
  },
  {
   "cell_type": "code",
   "execution_count": 79,
   "metadata": {},
   "outputs": [
    {
     "data": {
      "text/html": [
       "<div>\n",
       "<style scoped>\n",
       "    .dataframe tbody tr th:only-of-type {\n",
       "        vertical-align: middle;\n",
       "    }\n",
       "\n",
       "    .dataframe tbody tr th {\n",
       "        vertical-align: top;\n",
       "    }\n",
       "\n",
       "    .dataframe thead th {\n",
       "        text-align: right;\n",
       "    }\n",
       "</style>\n",
       "<table border=\"1\" class=\"dataframe\">\n",
       "  <thead>\n",
       "    <tr style=\"text-align: right;\">\n",
       "      <th></th>\n",
       "      <th>Time</th>\n",
       "      <th>PJME_MW</th>\n",
       "      <th>year</th>\n",
       "      <th>month</th>\n",
       "      <th>dayofmonth</th>\n",
       "      <th>quarter</th>\n",
       "      <th>dayofyear</th>\n",
       "      <th>weekofyear</th>\n",
       "      <th>dayofweek</th>\n",
       "      <th>hour</th>\n",
       "      <th>is_holiday</th>\n",
       "      <th>is_prev_holiday</th>\n",
       "      <th>is_next_holiday</th>\n",
       "    </tr>\n",
       "    <tr>\n",
       "      <th>Date</th>\n",
       "      <th></th>\n",
       "      <th></th>\n",
       "      <th></th>\n",
       "      <th></th>\n",
       "      <th></th>\n",
       "      <th></th>\n",
       "      <th></th>\n",
       "      <th></th>\n",
       "      <th></th>\n",
       "      <th></th>\n",
       "      <th></th>\n",
       "      <th></th>\n",
       "      <th></th>\n",
       "    </tr>\n",
       "  </thead>\n",
       "  <tbody>\n",
       "    <tr>\n",
       "      <th>2002-01-01</th>\n",
       "      <td>01:00:00</td>\n",
       "      <td>30393.0</td>\n",
       "      <td>2002</td>\n",
       "      <td>1</td>\n",
       "      <td>1</td>\n",
       "      <td>1</td>\n",
       "      <td>1</td>\n",
       "      <td>1</td>\n",
       "      <td>1</td>\n",
       "      <td>1</td>\n",
       "      <td>1</td>\n",
       "      <td>0</td>\n",
       "      <td>0</td>\n",
       "    </tr>\n",
       "    <tr>\n",
       "      <th>2002-01-01</th>\n",
       "      <td>02:00:00</td>\n",
       "      <td>29265.0</td>\n",
       "      <td>2002</td>\n",
       "      <td>1</td>\n",
       "      <td>1</td>\n",
       "      <td>1</td>\n",
       "      <td>1</td>\n",
       "      <td>1</td>\n",
       "      <td>1</td>\n",
       "      <td>2</td>\n",
       "      <td>1</td>\n",
       "      <td>0</td>\n",
       "      <td>0</td>\n",
       "    </tr>\n",
       "    <tr>\n",
       "      <th>2002-01-01</th>\n",
       "      <td>03:00:00</td>\n",
       "      <td>28357.0</td>\n",
       "      <td>2002</td>\n",
       "      <td>1</td>\n",
       "      <td>1</td>\n",
       "      <td>1</td>\n",
       "      <td>1</td>\n",
       "      <td>1</td>\n",
       "      <td>1</td>\n",
       "      <td>3</td>\n",
       "      <td>1</td>\n",
       "      <td>0</td>\n",
       "      <td>0</td>\n",
       "    </tr>\n",
       "    <tr>\n",
       "      <th>2002-01-01</th>\n",
       "      <td>04:00:00</td>\n",
       "      <td>27899.0</td>\n",
       "      <td>2002</td>\n",
       "      <td>1</td>\n",
       "      <td>1</td>\n",
       "      <td>1</td>\n",
       "      <td>1</td>\n",
       "      <td>1</td>\n",
       "      <td>1</td>\n",
       "      <td>4</td>\n",
       "      <td>1</td>\n",
       "      <td>0</td>\n",
       "      <td>0</td>\n",
       "    </tr>\n",
       "    <tr>\n",
       "      <th>2002-01-01</th>\n",
       "      <td>05:00:00</td>\n",
       "      <td>28057.0</td>\n",
       "      <td>2002</td>\n",
       "      <td>1</td>\n",
       "      <td>1</td>\n",
       "      <td>1</td>\n",
       "      <td>1</td>\n",
       "      <td>1</td>\n",
       "      <td>1</td>\n",
       "      <td>5</td>\n",
       "      <td>1</td>\n",
       "      <td>0</td>\n",
       "      <td>0</td>\n",
       "    </tr>\n",
       "  </tbody>\n",
       "</table>\n",
       "</div>"
      ],
      "text/plain": [
       "                Time  PJME_MW  year  month  dayofmonth  quarter  dayofyear  \\\n",
       "Date                                                                         \n",
       "2002-01-01  01:00:00  30393.0  2002      1           1        1          1   \n",
       "2002-01-01  02:00:00  29265.0  2002      1           1        1          1   \n",
       "2002-01-01  03:00:00  28357.0  2002      1           1        1          1   \n",
       "2002-01-01  04:00:00  27899.0  2002      1           1        1          1   \n",
       "2002-01-01  05:00:00  28057.0  2002      1           1        1          1   \n",
       "\n",
       "            weekofyear  dayofweek  hour  is_holiday  is_prev_holiday  \\\n",
       "Date                                                                   \n",
       "2002-01-01           1          1     1           1                0   \n",
       "2002-01-01           1          1     2           1                0   \n",
       "2002-01-01           1          1     3           1                0   \n",
       "2002-01-01           1          1     4           1                0   \n",
       "2002-01-01           1          1     5           1                0   \n",
       "\n",
       "            is_next_holiday  \n",
       "Date                         \n",
       "2002-01-01                0  \n",
       "2002-01-01                0  \n",
       "2002-01-01                0  \n",
       "2002-01-01                0  \n",
       "2002-01-01                0  "
      ]
     },
     "execution_count": 79,
     "metadata": {},
     "output_type": "execute_result"
    }
   ],
   "source": [
    "data.head()"
   ]
  },
  {
   "cell_type": "code",
   "execution_count": 80,
   "metadata": {},
   "outputs": [],
   "source": [
    "data_w = data.resample('W').mean()"
   ]
  },
  {
   "cell_type": "code",
   "execution_count": 81,
   "metadata": {},
   "outputs": [
    {
     "data": {
      "text/html": [
       "<div>\n",
       "<style scoped>\n",
       "    .dataframe tbody tr th:only-of-type {\n",
       "        vertical-align: middle;\n",
       "    }\n",
       "\n",
       "    .dataframe tbody tr th {\n",
       "        vertical-align: top;\n",
       "    }\n",
       "\n",
       "    .dataframe thead th {\n",
       "        text-align: right;\n",
       "    }\n",
       "</style>\n",
       "<table border=\"1\" class=\"dataframe\">\n",
       "  <thead>\n",
       "    <tr style=\"text-align: right;\">\n",
       "      <th></th>\n",
       "      <th>PJME_MW</th>\n",
       "      <th>year</th>\n",
       "      <th>month</th>\n",
       "      <th>dayofmonth</th>\n",
       "      <th>quarter</th>\n",
       "      <th>dayofyear</th>\n",
       "      <th>weekofyear</th>\n",
       "      <th>dayofweek</th>\n",
       "      <th>hour</th>\n",
       "      <th>is_holiday</th>\n",
       "      <th>is_prev_holiday</th>\n",
       "      <th>is_next_holiday</th>\n",
       "    </tr>\n",
       "    <tr>\n",
       "      <th>Date</th>\n",
       "      <th></th>\n",
       "      <th></th>\n",
       "      <th></th>\n",
       "      <th></th>\n",
       "      <th></th>\n",
       "      <th></th>\n",
       "      <th></th>\n",
       "      <th></th>\n",
       "      <th></th>\n",
       "      <th></th>\n",
       "      <th></th>\n",
       "      <th></th>\n",
       "    </tr>\n",
       "  </thead>\n",
       "  <tbody>\n",
       "    <tr>\n",
       "      <th>2002-01-06</th>\n",
       "      <td>32392.160839</td>\n",
       "      <td>2002.0</td>\n",
       "      <td>1.000000</td>\n",
       "      <td>3.517483</td>\n",
       "      <td>1.0</td>\n",
       "      <td>3.517483</td>\n",
       "      <td>1.0</td>\n",
       "      <td>3.517483</td>\n",
       "      <td>11.58042</td>\n",
       "      <td>0.160839</td>\n",
       "      <td>0.000000</td>\n",
       "      <td>0.167832</td>\n",
       "    </tr>\n",
       "    <tr>\n",
       "      <th>2002-01-13</th>\n",
       "      <td>31487.386905</td>\n",
       "      <td>2002.0</td>\n",
       "      <td>1.000000</td>\n",
       "      <td>10.000000</td>\n",
       "      <td>1.0</td>\n",
       "      <td>10.000000</td>\n",
       "      <td>2.0</td>\n",
       "      <td>3.000000</td>\n",
       "      <td>11.50000</td>\n",
       "      <td>0.000000</td>\n",
       "      <td>0.000000</td>\n",
       "      <td>0.000000</td>\n",
       "    </tr>\n",
       "    <tr>\n",
       "      <th>2002-01-20</th>\n",
       "      <td>31452.880952</td>\n",
       "      <td>2002.0</td>\n",
       "      <td>1.000000</td>\n",
       "      <td>17.000000</td>\n",
       "      <td>1.0</td>\n",
       "      <td>17.000000</td>\n",
       "      <td>3.0</td>\n",
       "      <td>3.000000</td>\n",
       "      <td>11.50000</td>\n",
       "      <td>0.000000</td>\n",
       "      <td>0.142857</td>\n",
       "      <td>0.000000</td>\n",
       "    </tr>\n",
       "    <tr>\n",
       "      <th>2002-01-27</th>\n",
       "      <td>30141.529762</td>\n",
       "      <td>2002.0</td>\n",
       "      <td>1.000000</td>\n",
       "      <td>24.000000</td>\n",
       "      <td>1.0</td>\n",
       "      <td>24.000000</td>\n",
       "      <td>4.0</td>\n",
       "      <td>3.000000</td>\n",
       "      <td>11.50000</td>\n",
       "      <td>0.142857</td>\n",
       "      <td>0.000000</td>\n",
       "      <td>0.142857</td>\n",
       "    </tr>\n",
       "    <tr>\n",
       "      <th>2002-02-03</th>\n",
       "      <td>29196.488095</td>\n",
       "      <td>2002.0</td>\n",
       "      <td>1.428571</td>\n",
       "      <td>17.714286</td>\n",
       "      <td>1.0</td>\n",
       "      <td>31.000000</td>\n",
       "      <td>5.0</td>\n",
       "      <td>3.000000</td>\n",
       "      <td>11.50000</td>\n",
       "      <td>0.000000</td>\n",
       "      <td>0.000000</td>\n",
       "      <td>0.000000</td>\n",
       "    </tr>\n",
       "  </tbody>\n",
       "</table>\n",
       "</div>"
      ],
      "text/plain": [
       "                 PJME_MW    year     month  dayofmonth  quarter  dayofyear  \\\n",
       "Date                                                                         \n",
       "2002-01-06  32392.160839  2002.0  1.000000    3.517483      1.0   3.517483   \n",
       "2002-01-13  31487.386905  2002.0  1.000000   10.000000      1.0  10.000000   \n",
       "2002-01-20  31452.880952  2002.0  1.000000   17.000000      1.0  17.000000   \n",
       "2002-01-27  30141.529762  2002.0  1.000000   24.000000      1.0  24.000000   \n",
       "2002-02-03  29196.488095  2002.0  1.428571   17.714286      1.0  31.000000   \n",
       "\n",
       "            weekofyear  dayofweek      hour  is_holiday  is_prev_holiday  \\\n",
       "Date                                                                       \n",
       "2002-01-06         1.0   3.517483  11.58042    0.160839         0.000000   \n",
       "2002-01-13         2.0   3.000000  11.50000    0.000000         0.000000   \n",
       "2002-01-20         3.0   3.000000  11.50000    0.000000         0.142857   \n",
       "2002-01-27         4.0   3.000000  11.50000    0.142857         0.000000   \n",
       "2002-02-03         5.0   3.000000  11.50000    0.000000         0.000000   \n",
       "\n",
       "            is_next_holiday  \n",
       "Date                         \n",
       "2002-01-06         0.167832  \n",
       "2002-01-13         0.000000  \n",
       "2002-01-20         0.000000  \n",
       "2002-01-27         0.142857  \n",
       "2002-02-03         0.000000  "
      ]
     },
     "execution_count": 81,
     "metadata": {},
     "output_type": "execute_result"
    }
   ],
   "source": [
    "data_w.head()"
   ]
  },
  {
   "cell_type": "code",
   "execution_count": 82,
   "metadata": {},
   "outputs": [],
   "source": [
    "data_w = data_w.drop('hour', axis=1)"
   ]
  },
  {
   "cell_type": "code",
   "execution_count": 83,
   "metadata": {},
   "outputs": [],
   "source": [
    "data_w = data_w.drop('dayofweek', axis=1)"
   ]
  },
  {
   "cell_type": "code",
   "execution_count": 84,
   "metadata": {},
   "outputs": [],
   "source": [
    "data_w = data_w.drop('year', axis=1)"
   ]
  },
  {
   "cell_type": "code",
   "execution_count": 85,
   "metadata": {},
   "outputs": [],
   "source": [
    "data_w = data_w.drop('dayofmonth', axis=1)\n",
    "data_w = data_w.drop('dayofyear', axis=1)"
   ]
  },
  {
   "cell_type": "code",
   "execution_count": 86,
   "metadata": {},
   "outputs": [
    {
     "data": {
      "text/html": [
       "<div>\n",
       "<style scoped>\n",
       "    .dataframe tbody tr th:only-of-type {\n",
       "        vertical-align: middle;\n",
       "    }\n",
       "\n",
       "    .dataframe tbody tr th {\n",
       "        vertical-align: top;\n",
       "    }\n",
       "\n",
       "    .dataframe thead th {\n",
       "        text-align: right;\n",
       "    }\n",
       "</style>\n",
       "<table border=\"1\" class=\"dataframe\">\n",
       "  <thead>\n",
       "    <tr style=\"text-align: right;\">\n",
       "      <th></th>\n",
       "      <th>PJME_MW</th>\n",
       "      <th>month</th>\n",
       "      <th>quarter</th>\n",
       "      <th>weekofyear</th>\n",
       "      <th>is_holiday</th>\n",
       "      <th>is_prev_holiday</th>\n",
       "      <th>is_next_holiday</th>\n",
       "    </tr>\n",
       "    <tr>\n",
       "      <th>Date</th>\n",
       "      <th></th>\n",
       "      <th></th>\n",
       "      <th></th>\n",
       "      <th></th>\n",
       "      <th></th>\n",
       "      <th></th>\n",
       "      <th></th>\n",
       "    </tr>\n",
       "  </thead>\n",
       "  <tbody>\n",
       "    <tr>\n",
       "      <th>2002-01-06</th>\n",
       "      <td>32392.160839</td>\n",
       "      <td>1.000000</td>\n",
       "      <td>1.0</td>\n",
       "      <td>1.0</td>\n",
       "      <td>0.160839</td>\n",
       "      <td>0.000000</td>\n",
       "      <td>0.167832</td>\n",
       "    </tr>\n",
       "    <tr>\n",
       "      <th>2002-01-13</th>\n",
       "      <td>31487.386905</td>\n",
       "      <td>1.000000</td>\n",
       "      <td>1.0</td>\n",
       "      <td>2.0</td>\n",
       "      <td>0.000000</td>\n",
       "      <td>0.000000</td>\n",
       "      <td>0.000000</td>\n",
       "    </tr>\n",
       "    <tr>\n",
       "      <th>2002-01-20</th>\n",
       "      <td>31452.880952</td>\n",
       "      <td>1.000000</td>\n",
       "      <td>1.0</td>\n",
       "      <td>3.0</td>\n",
       "      <td>0.000000</td>\n",
       "      <td>0.142857</td>\n",
       "      <td>0.000000</td>\n",
       "    </tr>\n",
       "    <tr>\n",
       "      <th>2002-01-27</th>\n",
       "      <td>30141.529762</td>\n",
       "      <td>1.000000</td>\n",
       "      <td>1.0</td>\n",
       "      <td>4.0</td>\n",
       "      <td>0.142857</td>\n",
       "      <td>0.000000</td>\n",
       "      <td>0.142857</td>\n",
       "    </tr>\n",
       "    <tr>\n",
       "      <th>2002-02-03</th>\n",
       "      <td>29196.488095</td>\n",
       "      <td>1.428571</td>\n",
       "      <td>1.0</td>\n",
       "      <td>5.0</td>\n",
       "      <td>0.000000</td>\n",
       "      <td>0.000000</td>\n",
       "      <td>0.000000</td>\n",
       "    </tr>\n",
       "  </tbody>\n",
       "</table>\n",
       "</div>"
      ],
      "text/plain": [
       "                 PJME_MW     month  quarter  weekofyear  is_holiday  \\\n",
       "Date                                                                  \n",
       "2002-01-06  32392.160839  1.000000      1.0         1.0    0.160839   \n",
       "2002-01-13  31487.386905  1.000000      1.0         2.0    0.000000   \n",
       "2002-01-20  31452.880952  1.000000      1.0         3.0    0.000000   \n",
       "2002-01-27  30141.529762  1.000000      1.0         4.0    0.142857   \n",
       "2002-02-03  29196.488095  1.428571      1.0         5.0    0.000000   \n",
       "\n",
       "            is_prev_holiday  is_next_holiday  \n",
       "Date                                          \n",
       "2002-01-06         0.000000         0.167832  \n",
       "2002-01-13         0.000000         0.000000  \n",
       "2002-01-20         0.142857         0.000000  \n",
       "2002-01-27         0.000000         0.142857  \n",
       "2002-02-03         0.000000         0.000000  "
      ]
     },
     "execution_count": 86,
     "metadata": {},
     "output_type": "execute_result"
    }
   ],
   "source": [
    "data_w.head()"
   ]
  },
  {
   "cell_type": "code",
   "execution_count": 87,
   "metadata": {},
   "outputs": [],
   "source": [
    "data_w = data_w.drop('is_next_holiday', axis=1)\n",
    "data_w = data_w.drop('is_prev_holiday', axis=1)"
   ]
  },
  {
   "cell_type": "code",
   "execution_count": 88,
   "metadata": {},
   "outputs": [],
   "source": [
    "from sklearn.cluster import DBSCAN\n",
    "from sklearn.preprocessing import StandardScaler\n",
    "from sklearn.manifold import TSNE"
   ]
  },
  {
   "cell_type": "code",
   "execution_count": 89,
   "metadata": {},
   "outputs": [],
   "source": [
    "scaler = StandardScaler()\n",
    "tsne_ = TSNE(n_components=2, random_state=42)\n",
    "\n",
    "X = data_w.values\n",
    "X_scaled = scaler.fit_transform(X)\n",
    "X_tsne = tsne_.fit_transform(X_scaled)"
   ]
  },
  {
   "cell_type": "code",
   "execution_count": 90,
   "metadata": {},
   "outputs": [],
   "source": [
    "import seaborn as sns"
   ]
  },
  {
   "cell_type": "code",
   "execution_count": 91,
   "metadata": {},
   "outputs": [
    {
     "data": {
      "text/plain": [
       "<matplotlib.axes._subplots.AxesSubplot at 0x21073165390>"
      ]
     },
     "execution_count": 91,
     "metadata": {},
     "output_type": "execute_result"
    },
    {
     "data": {
      "image/png": "[encoded data removed]",
      "text/plain": [
       "<Figure size 432x288 with 1 Axes>"
      ]
     },
     "metadata": {
      "needs_background": "light"
     },
     "output_type": "display_data"
    }
   ],
   "source": [
    "cluster = DBSCAN(eps=3, leaf_size=15)\n",
    "X_clusters = cluster.fit_predict(X_tsne)\n",
    "\n",
    "sns.scatterplot(X_tsne[:, 0], X_tsne[:, 1], hue=X_clusters)"
   ]
  },
  {
   "cell_type": "code",
   "execution_count": 92,
   "metadata": {},
   "outputs": [
    {
     "data": {
      "text/html": [
       "<div>\n",
       "<style scoped>\n",
       "    .dataframe tbody tr th:only-of-type {\n",
       "        vertical-align: middle;\n",
       "    }\n",
       "\n",
       "    .dataframe tbody tr th {\n",
       "        vertical-align: top;\n",
       "    }\n",
       "\n",
       "    .dataframe thead th {\n",
       "        text-align: right;\n",
       "    }\n",
       "</style>\n",
       "<table border=\"1\" class=\"dataframe\">\n",
       "  <thead>\n",
       "    <tr style=\"text-align: right;\">\n",
       "      <th></th>\n",
       "      <th>PJME_MW</th>\n",
       "      <th>month</th>\n",
       "      <th>quarter</th>\n",
       "      <th>weekofyear</th>\n",
       "      <th>is_holiday</th>\n",
       "      <th>cluster</th>\n",
       "    </tr>\n",
       "    <tr>\n",
       "      <th>Date</th>\n",
       "      <th></th>\n",
       "      <th></th>\n",
       "      <th></th>\n",
       "      <th></th>\n",
       "      <th></th>\n",
       "      <th></th>\n",
       "    </tr>\n",
       "  </thead>\n",
       "  <tbody>\n",
       "    <tr>\n",
       "      <th>2002-01-06</th>\n",
       "      <td>32392.160839</td>\n",
       "      <td>1.000000</td>\n",
       "      <td>1.0</td>\n",
       "      <td>1.0</td>\n",
       "      <td>0.160839</td>\n",
       "      <td>0</td>\n",
       "    </tr>\n",
       "    <tr>\n",
       "      <th>2002-01-13</th>\n",
       "      <td>31487.386905</td>\n",
       "      <td>1.000000</td>\n",
       "      <td>1.0</td>\n",
       "      <td>2.0</td>\n",
       "      <td>0.000000</td>\n",
       "      <td>1</td>\n",
       "    </tr>\n",
       "    <tr>\n",
       "      <th>2002-01-20</th>\n",
       "      <td>31452.880952</td>\n",
       "      <td>1.000000</td>\n",
       "      <td>1.0</td>\n",
       "      <td>3.0</td>\n",
       "      <td>0.000000</td>\n",
       "      <td>1</td>\n",
       "    </tr>\n",
       "    <tr>\n",
       "      <th>2002-01-27</th>\n",
       "      <td>30141.529762</td>\n",
       "      <td>1.000000</td>\n",
       "      <td>1.0</td>\n",
       "      <td>4.0</td>\n",
       "      <td>0.142857</td>\n",
       "      <td>0</td>\n",
       "    </tr>\n",
       "    <tr>\n",
       "      <th>2002-02-03</th>\n",
       "      <td>29196.488095</td>\n",
       "      <td>1.428571</td>\n",
       "      <td>1.0</td>\n",
       "      <td>5.0</td>\n",
       "      <td>0.000000</td>\n",
       "      <td>1</td>\n",
       "    </tr>\n",
       "  </tbody>\n",
       "</table>\n",
       "</div>"
      ],
      "text/plain": [
       "                 PJME_MW     month  quarter  weekofyear  is_holiday  cluster\n",
       "Date                                                                        \n",
       "2002-01-06  32392.160839  1.000000      1.0         1.0    0.160839        0\n",
       "2002-01-13  31487.386905  1.000000      1.0         2.0    0.000000        1\n",
       "2002-01-20  31452.880952  1.000000      1.0         3.0    0.000000        1\n",
       "2002-01-27  30141.529762  1.000000      1.0         4.0    0.142857        0\n",
       "2002-02-03  29196.488095  1.428571      1.0         5.0    0.000000        1"
      ]
     },
     "execution_count": 92,
     "metadata": {},
     "output_type": "execute_result"
    }
   ],
   "source": [
    "data_w['cluster'] = X_clusters\n",
    "data_w.head()"
   ]
  },
  {
   "cell_type": "code",
   "execution_count": 93,
   "metadata": {},
   "outputs": [],
   "source": [
    "from sklearn.decomposition import PCA"
   ]
  },
  {
   "cell_type": "code",
   "execution_count": 94,
   "metadata": {},
   "outputs": [],
   "source": [
    "pca_ = PCA(n_components=2, svd_solver='full')\n",
    "\n",
    "X_pca = pca_.fit_transform(X_scaled)"
   ]
  },
  {
   "cell_type": "code",
   "execution_count": 95,
   "metadata": {},
   "outputs": [],
   "source": [
    "data_w['pca1'] = X_pca[:, 0]\n",
    "data_w['pca2'] = X_pca[:, 1]"
   ]
  },
  {
   "cell_type": "code",
   "execution_count": 96,
   "metadata": {},
   "outputs": [
    {
     "data": {
      "text/html": [
       "<div>\n",
       "<style scoped>\n",
       "    .dataframe tbody tr th:only-of-type {\n",
       "        vertical-align: middle;\n",
       "    }\n",
       "\n",
       "    .dataframe tbody tr th {\n",
       "        vertical-align: top;\n",
       "    }\n",
       "\n",
       "    .dataframe thead th {\n",
       "        text-align: right;\n",
       "    }\n",
       "</style>\n",
       "<table border=\"1\" class=\"dataframe\">\n",
       "  <thead>\n",
       "    <tr style=\"text-align: right;\">\n",
       "      <th></th>\n",
       "      <th>PJME_MW</th>\n",
       "      <th>month</th>\n",
       "      <th>quarter</th>\n",
       "      <th>weekofyear</th>\n",
       "      <th>is_holiday</th>\n",
       "      <th>cluster</th>\n",
       "      <th>pca1</th>\n",
       "      <th>pca2</th>\n",
       "      <th>diff</th>\n",
       "    </tr>\n",
       "    <tr>\n",
       "      <th>Date</th>\n",
       "      <th></th>\n",
       "      <th></th>\n",
       "      <th></th>\n",
       "      <th></th>\n",
       "      <th></th>\n",
       "      <th></th>\n",
       "      <th></th>\n",
       "      <th></th>\n",
       "      <th></th>\n",
       "    </tr>\n",
       "  </thead>\n",
       "  <tbody>\n",
       "    <tr>\n",
       "      <th>2002-01-06</th>\n",
       "      <td>32392.160839</td>\n",
       "      <td>1.000000</td>\n",
       "      <td>1.0</td>\n",
       "      <td>1.0</td>\n",
       "      <td>0.160839</td>\n",
       "      <td>0</td>\n",
       "      <td>-2.456786</td>\n",
       "      <td>1.645752</td>\n",
       "      <td>NaN</td>\n",
       "    </tr>\n",
       "    <tr>\n",
       "      <th>2002-01-13</th>\n",
       "      <td>31487.386905</td>\n",
       "      <td>1.000000</td>\n",
       "      <td>1.0</td>\n",
       "      <td>2.0</td>\n",
       "      <td>0.000000</td>\n",
       "      <td>1</td>\n",
       "      <td>-2.657596</td>\n",
       "      <td>-0.398610</td>\n",
       "      <td>-904.773934</td>\n",
       "    </tr>\n",
       "    <tr>\n",
       "      <th>2002-01-20</th>\n",
       "      <td>31452.880952</td>\n",
       "      <td>1.000000</td>\n",
       "      <td>1.0</td>\n",
       "      <td>3.0</td>\n",
       "      <td>0.000000</td>\n",
       "      <td>1</td>\n",
       "      <td>-2.618849</td>\n",
       "      <td>-0.405877</td>\n",
       "      <td>-34.505952</td>\n",
       "    </tr>\n",
       "    <tr>\n",
       "      <th>2002-01-27</th>\n",
       "      <td>30141.529762</td>\n",
       "      <td>1.000000</td>\n",
       "      <td>1.0</td>\n",
       "      <td>4.0</td>\n",
       "      <td>0.142857</td>\n",
       "      <td>0</td>\n",
       "      <td>-2.335608</td>\n",
       "      <td>1.006388</td>\n",
       "      <td>-1311.351190</td>\n",
       "    </tr>\n",
       "    <tr>\n",
       "      <th>2002-02-03</th>\n",
       "      <td>29196.488095</td>\n",
       "      <td>1.428571</td>\n",
       "      <td>1.0</td>\n",
       "      <td>5.0</td>\n",
       "      <td>0.000000</td>\n",
       "      <td>1</td>\n",
       "      <td>-2.434401</td>\n",
       "      <td>-0.837669</td>\n",
       "      <td>-945.041667</td>\n",
       "    </tr>\n",
       "  </tbody>\n",
       "</table>\n",
       "</div>"
      ],
      "text/plain": [
       "                 PJME_MW     month  quarter  weekofyear  is_holiday  cluster  \\\n",
       "Date                                                                           \n",
       "2002-01-06  32392.160839  1.000000      1.0         1.0    0.160839        0   \n",
       "2002-01-13  31487.386905  1.000000      1.0         2.0    0.000000        1   \n",
       "2002-01-20  31452.880952  1.000000      1.0         3.0    0.000000        1   \n",
       "2002-01-27  30141.529762  1.000000      1.0         4.0    0.142857        0   \n",
       "2002-02-03  29196.488095  1.428571      1.0         5.0    0.000000        1   \n",
       "\n",
       "                pca1      pca2         diff  \n",
       "Date                                         \n",
       "2002-01-06 -2.456786  1.645752          NaN  \n",
       "2002-01-13 -2.657596 -0.398610  -904.773934  \n",
       "2002-01-20 -2.618849 -0.405877   -34.505952  \n",
       "2002-01-27 -2.335608  1.006388 -1311.351190  \n",
       "2002-02-03 -2.434401 -0.837669  -945.041667  "
      ]
     },
     "execution_count": 96,
     "metadata": {},
     "output_type": "execute_result"
    }
   ],
   "source": [
    "data_w['diff'] = data_w['PJME_MW'].diff()\n",
    "data_w.head()"
   ]
  },
  {
   "cell_type": "code",
   "execution_count": 97,
   "metadata": {},
   "outputs": [],
   "source": [
    "data_w['log'] = np.log(data_w['PJME_MW'])"
   ]
  },
  {
   "cell_type": "code",
   "execution_count": 98,
   "metadata": {},
   "outputs": [
    {
     "name": "stderr",
     "output_type": "stream",
     "text": [
      "D:\\Anaconda3\\lib\\site-packages\\pandas\\core\\indexing.py:190: SettingWithCopyWarning: \n",
      "A value is trying to be set on a copy of a slice from a DataFrame\n",
      "\n",
      "See the caveats in the documentation: http://pandas.pydata.org/pandas-docs/stable/indexing.html#indexing-view-versus-copy\n",
      "  self._setitem_with_indexer(indexer, value)\n"
     ]
    }
   ],
   "source": [
    "data_w['log_quot'] = 0\n",
    "log_quot = data_w['log'].iloc[1:].values/data_w['log'].iloc[:-1].values\n",
    "data_w['log_quot'].iloc[1:] = log_quot"
   ]
  },
  {
   "cell_type": "code",
   "execution_count": 99,
   "metadata": {},
   "outputs": [
    {
     "data": {
      "text/html": [
       "<div>\n",
       "<style scoped>\n",
       "    .dataframe tbody tr th:only-of-type {\n",
       "        vertical-align: middle;\n",
       "    }\n",
       "\n",
       "    .dataframe tbody tr th {\n",
       "        vertical-align: top;\n",
       "    }\n",
       "\n",
       "    .dataframe thead th {\n",
       "        text-align: right;\n",
       "    }\n",
       "</style>\n",
       "<table border=\"1\" class=\"dataframe\">\n",
       "  <thead>\n",
       "    <tr style=\"text-align: right;\">\n",
       "      <th></th>\n",
       "      <th>PJME_MW</th>\n",
       "      <th>month</th>\n",
       "      <th>quarter</th>\n",
       "      <th>weekofyear</th>\n",
       "      <th>is_holiday</th>\n",
       "      <th>cluster</th>\n",
       "      <th>pca1</th>\n",
       "      <th>pca2</th>\n",
       "      <th>diff</th>\n",
       "      <th>log</th>\n",
       "      <th>log_quot</th>\n",
       "    </tr>\n",
       "    <tr>\n",
       "      <th>Date</th>\n",
       "      <th></th>\n",
       "      <th></th>\n",
       "      <th></th>\n",
       "      <th></th>\n",
       "      <th></th>\n",
       "      <th></th>\n",
       "      <th></th>\n",
       "      <th></th>\n",
       "      <th></th>\n",
       "      <th></th>\n",
       "      <th></th>\n",
       "    </tr>\n",
       "  </thead>\n",
       "  <tbody>\n",
       "    <tr>\n",
       "      <th>2002-01-06</th>\n",
       "      <td>32392.160839</td>\n",
       "      <td>1.000000</td>\n",
       "      <td>1.0</td>\n",
       "      <td>1.0</td>\n",
       "      <td>0.160839</td>\n",
       "      <td>0</td>\n",
       "      <td>-2.456786</td>\n",
       "      <td>1.645752</td>\n",
       "      <td>NaN</td>\n",
       "      <td>10.385672</td>\n",
       "      <td>0.000000</td>\n",
       "    </tr>\n",
       "    <tr>\n",
       "      <th>2002-01-13</th>\n",
       "      <td>31487.386905</td>\n",
       "      <td>1.000000</td>\n",
       "      <td>1.0</td>\n",
       "      <td>2.0</td>\n",
       "      <td>0.000000</td>\n",
       "      <td>1</td>\n",
       "      <td>-2.657596</td>\n",
       "      <td>-0.398610</td>\n",
       "      <td>-904.773934</td>\n",
       "      <td>10.357342</td>\n",
       "      <td>0.997272</td>\n",
       "    </tr>\n",
       "    <tr>\n",
       "      <th>2002-01-20</th>\n",
       "      <td>31452.880952</td>\n",
       "      <td>1.000000</td>\n",
       "      <td>1.0</td>\n",
       "      <td>3.0</td>\n",
       "      <td>0.000000</td>\n",
       "      <td>1</td>\n",
       "      <td>-2.618849</td>\n",
       "      <td>-0.405877</td>\n",
       "      <td>-34.505952</td>\n",
       "      <td>10.356246</td>\n",
       "      <td>0.999894</td>\n",
       "    </tr>\n",
       "    <tr>\n",
       "      <th>2002-01-27</th>\n",
       "      <td>30141.529762</td>\n",
       "      <td>1.000000</td>\n",
       "      <td>1.0</td>\n",
       "      <td>4.0</td>\n",
       "      <td>0.142857</td>\n",
       "      <td>0</td>\n",
       "      <td>-2.335608</td>\n",
       "      <td>1.006388</td>\n",
       "      <td>-1311.351190</td>\n",
       "      <td>10.313659</td>\n",
       "      <td>0.995888</td>\n",
       "    </tr>\n",
       "    <tr>\n",
       "      <th>2002-02-03</th>\n",
       "      <td>29196.488095</td>\n",
       "      <td>1.428571</td>\n",
       "      <td>1.0</td>\n",
       "      <td>5.0</td>\n",
       "      <td>0.000000</td>\n",
       "      <td>1</td>\n",
       "      <td>-2.434401</td>\n",
       "      <td>-0.837669</td>\n",
       "      <td>-945.041667</td>\n",
       "      <td>10.281804</td>\n",
       "      <td>0.996911</td>\n",
       "    </tr>\n",
       "  </tbody>\n",
       "</table>\n",
       "</div>"
      ],
      "text/plain": [
       "                 PJME_MW     month  quarter  weekofyear  is_holiday  cluster  \\\n",
       "Date                                                                           \n",
       "2002-01-06  32392.160839  1.000000      1.0         1.0    0.160839        0   \n",
       "2002-01-13  31487.386905  1.000000      1.0         2.0    0.000000        1   \n",
       "2002-01-20  31452.880952  1.000000      1.0         3.0    0.000000        1   \n",
       "2002-01-27  30141.529762  1.000000      1.0         4.0    0.142857        0   \n",
       "2002-02-03  29196.488095  1.428571      1.0         5.0    0.000000        1   \n",
       "\n",
       "                pca1      pca2         diff        log  log_quot  \n",
       "Date                                                              \n",
       "2002-01-06 -2.456786  1.645752          NaN  10.385672  0.000000  \n",
       "2002-01-13 -2.657596 -0.398610  -904.773934  10.357342  0.997272  \n",
       "2002-01-20 -2.618849 -0.405877   -34.505952  10.356246  0.999894  \n",
       "2002-01-27 -2.335608  1.006388 -1311.351190  10.313659  0.995888  \n",
       "2002-02-03 -2.434401 -0.837669  -945.041667  10.281804  0.996911  "
      ]
     },
     "execution_count": 99,
     "metadata": {},
     "output_type": "execute_result"
    }
   ],
   "source": [
    "data_w.head()"
   ]
  },
  {
   "cell_type": "code",
   "execution_count": 100,
   "metadata": {},
   "outputs": [],
   "source": [
    "data_w['rolling4'] = data_w['PJME_MW'].rolling(window=4).mean()"
   ]
  },
  {
   "cell_type": "code",
   "execution_count": 101,
   "metadata": {},
   "outputs": [
    {
     "data": {
      "text/html": [
       "<div>\n",
       "<style scoped>\n",
       "    .dataframe tbody tr th:only-of-type {\n",
       "        vertical-align: middle;\n",
       "    }\n",
       "\n",
       "    .dataframe tbody tr th {\n",
       "        vertical-align: top;\n",
       "    }\n",
       "\n",
       "    .dataframe thead th {\n",
       "        text-align: right;\n",
       "    }\n",
       "</style>\n",
       "<table border=\"1\" class=\"dataframe\">\n",
       "  <thead>\n",
       "    <tr style=\"text-align: right;\">\n",
       "      <th></th>\n",
       "      <th>PJME_MW</th>\n",
       "      <th>month</th>\n",
       "      <th>quarter</th>\n",
       "      <th>weekofyear</th>\n",
       "      <th>is_holiday</th>\n",
       "      <th>cluster</th>\n",
       "      <th>pca1</th>\n",
       "      <th>pca2</th>\n",
       "      <th>diff</th>\n",
       "      <th>log</th>\n",
       "      <th>log_quot</th>\n",
       "      <th>rolling4</th>\n",
       "    </tr>\n",
       "    <tr>\n",
       "      <th>Date</th>\n",
       "      <th></th>\n",
       "      <th></th>\n",
       "      <th></th>\n",
       "      <th></th>\n",
       "      <th></th>\n",
       "      <th></th>\n",
       "      <th></th>\n",
       "      <th></th>\n",
       "      <th></th>\n",
       "      <th></th>\n",
       "      <th></th>\n",
       "      <th></th>\n",
       "    </tr>\n",
       "  </thead>\n",
       "  <tbody>\n",
       "    <tr>\n",
       "      <th>2002-01-06</th>\n",
       "      <td>32392.160839</td>\n",
       "      <td>1.000000</td>\n",
       "      <td>1.0</td>\n",
       "      <td>1.0</td>\n",
       "      <td>0.160839</td>\n",
       "      <td>0</td>\n",
       "      <td>-2.456786</td>\n",
       "      <td>1.645752</td>\n",
       "      <td>NaN</td>\n",
       "      <td>10.385672</td>\n",
       "      <td>0.000000</td>\n",
       "      <td>NaN</td>\n",
       "    </tr>\n",
       "    <tr>\n",
       "      <th>2002-01-13</th>\n",
       "      <td>31487.386905</td>\n",
       "      <td>1.000000</td>\n",
       "      <td>1.0</td>\n",
       "      <td>2.0</td>\n",
       "      <td>0.000000</td>\n",
       "      <td>1</td>\n",
       "      <td>-2.657596</td>\n",
       "      <td>-0.398610</td>\n",
       "      <td>-904.773934</td>\n",
       "      <td>10.357342</td>\n",
       "      <td>0.997272</td>\n",
       "      <td>NaN</td>\n",
       "    </tr>\n",
       "    <tr>\n",
       "      <th>2002-01-20</th>\n",
       "      <td>31452.880952</td>\n",
       "      <td>1.000000</td>\n",
       "      <td>1.0</td>\n",
       "      <td>3.0</td>\n",
       "      <td>0.000000</td>\n",
       "      <td>1</td>\n",
       "      <td>-2.618849</td>\n",
       "      <td>-0.405877</td>\n",
       "      <td>-34.505952</td>\n",
       "      <td>10.356246</td>\n",
       "      <td>0.999894</td>\n",
       "      <td>NaN</td>\n",
       "    </tr>\n",
       "    <tr>\n",
       "      <th>2002-01-27</th>\n",
       "      <td>30141.529762</td>\n",
       "      <td>1.000000</td>\n",
       "      <td>1.0</td>\n",
       "      <td>4.0</td>\n",
       "      <td>0.142857</td>\n",
       "      <td>0</td>\n",
       "      <td>-2.335608</td>\n",
       "      <td>1.006388</td>\n",
       "      <td>-1311.351190</td>\n",
       "      <td>10.313659</td>\n",
       "      <td>0.995888</td>\n",
       "      <td>31368.489615</td>\n",
       "    </tr>\n",
       "    <tr>\n",
       "      <th>2002-02-03</th>\n",
       "      <td>29196.488095</td>\n",
       "      <td>1.428571</td>\n",
       "      <td>1.0</td>\n",
       "      <td>5.0</td>\n",
       "      <td>0.000000</td>\n",
       "      <td>1</td>\n",
       "      <td>-2.434401</td>\n",
       "      <td>-0.837669</td>\n",
       "      <td>-945.041667</td>\n",
       "      <td>10.281804</td>\n",
       "      <td>0.996911</td>\n",
       "      <td>30569.571429</td>\n",
       "    </tr>\n",
       "  </tbody>\n",
       "</table>\n",
       "</div>"
      ],
      "text/plain": [
       "                 PJME_MW     month  quarter  weekofyear  is_holiday  cluster  \\\n",
       "Date                                                                           \n",
       "2002-01-06  32392.160839  1.000000      1.0         1.0    0.160839        0   \n",
       "2002-01-13  31487.386905  1.000000      1.0         2.0    0.000000        1   \n",
       "2002-01-20  31452.880952  1.000000      1.0         3.0    0.000000        1   \n",
       "2002-01-27  30141.529762  1.000000      1.0         4.0    0.142857        0   \n",
       "2002-02-03  29196.488095  1.428571      1.0         5.0    0.000000        1   \n",
       "\n",
       "                pca1      pca2         diff        log  log_quot      rolling4  \n",
       "Date                                                                            \n",
       "2002-01-06 -2.456786  1.645752          NaN  10.385672  0.000000           NaN  \n",
       "2002-01-13 -2.657596 -0.398610  -904.773934  10.357342  0.997272           NaN  \n",
       "2002-01-20 -2.618849 -0.405877   -34.505952  10.356246  0.999894           NaN  \n",
       "2002-01-27 -2.335608  1.006388 -1311.351190  10.313659  0.995888  31368.489615  \n",
       "2002-02-03 -2.434401 -0.837669  -945.041667  10.281804  0.996911  30569.571429  "
      ]
     },
     "execution_count": 101,
     "metadata": {},
     "output_type": "execute_result"
    }
   ],
   "source": [
    "data_w.head()"
   ]
  },
  {
   "cell_type": "code",
   "execution_count": 102,
   "metadata": {},
   "outputs": [],
   "source": [
    "def exponential_smoothing(series, alpha):\n",
    "    result = [series[0]] \n",
    "    for n in range(1, len(series)):\n",
    "        result.append(alpha * series[n] + (1 - alpha) * result[n-1])\n",
    "    return result\n",
    "\n",
    "data_w['exp_001'] = exponential_smoothing(data_w['PJME_MW'], 0.01)\n",
    "data_w['exp_003'] = exponential_smoothing(data_w['PJME_MW'], 0.03)\n",
    "data_w['exp_005'] = exponential_smoothing(data_w['PJME_MW'], 0.05)\n",
    "data_w['exp_007'] = exponential_smoothing(data_w['PJME_MW'], 0.07)\n",
    "data_w['exp_009'] = exponential_smoothing(data_w['PJME_MW'], 0.09)"
   ]
  },
  {
   "cell_type": "code",
   "execution_count": 103,
   "metadata": {},
   "outputs": [],
   "source": [
    "p=8\n",
    "for i in range(1, p+1):\n",
    "    data_w['t'+str(i)] = 0.0\n",
    "    data_w['t'+str(i)].values[i:] = data_w['PJME_MW'].values[:-i]"
   ]
  },
  {
   "cell_type": "code",
   "execution_count": 104,
   "metadata": {},
   "outputs": [],
   "source": [
    "for i in range(1, p+1):\n",
    "    data_w['diff_t'+str(i)] = 0.0\n",
    "    data_w['diff_t'+str(i)].values[i:] = data_w['diff'].values[:-i]"
   ]
  },
  {
   "cell_type": "code",
   "execution_count": 105,
   "metadata": {},
   "outputs": [],
   "source": [
    "data_w = data_w.fillna(0)"
   ]
  },
  {
   "cell_type": "code",
   "execution_count": 106,
   "metadata": {},
   "outputs": [
    {
     "data": {
      "text/plain": [
       "(854, 1)"
      ]
     },
     "execution_count": 106,
     "metadata": {},
     "output_type": "execute_result"
    }
   ],
   "source": [
    "h=4\n",
    "scl = StandardScaler()\n",
    "target = data_w['PJME_MW'].values[h+p:].reshape((-1, 1))\n",
    "scaled_target = scl.fit_transform(target)\n",
    "scaled_target.shape"
   ]
  },
  {
   "cell_type": "code",
   "execution_count": 107,
   "metadata": {},
   "outputs": [
    {
     "data": {
      "text/plain": [
       "(854, 33)"
      ]
     },
     "execution_count": 107,
     "metadata": {},
     "output_type": "execute_result"
    }
   ],
   "source": [
    "scl_x = StandardScaler()\n",
    "\n",
    "X_r = data_w.iloc[p:-h, :].values\n",
    "X_r_scaled = scl_x.fit_transform(X_r.astype('float64'))\n",
    "X_r_scaled.shape"
   ]
  },
  {
   "cell_type": "code",
   "execution_count": 108,
   "metadata": {},
   "outputs": [],
   "source": [
    "from sklearn.feature_selection import SelectKBest, SelectPercentile\n",
    "from sklearn.feature_selection import SelectFromModel\n",
    "\n",
    "from sklearn.ensemble import GradientBoostingRegressor\n",
    "\n",
    "from sklearn.feature_selection import f_regression"
   ]
  },
  {
   "cell_type": "code",
   "execution_count": 109,
   "metadata": {},
   "outputs": [
    {
     "data": {
      "text/plain": [
       "array([ 0,  7,  9, 23, 24], dtype=int64)"
      ]
     },
     "execution_count": 109,
     "metadata": {},
     "output_type": "execute_result"
    }
   ],
   "source": [
    "skb = SelectKBest(f_regression, k=5)\n",
    "\n",
    "X_skb = skb.fit_transform(X_r_scaled, scaled_target.ravel())\n",
    "list_param_skb = np.where(skb.get_support())[0]\n",
    "list_param_skb"
   ]
  },
  {
   "cell_type": "code",
   "execution_count": 110,
   "metadata": {},
   "outputs": [
    {
     "data": {
      "text/plain": [
       "array([ 0,  9, 23, 24], dtype=int64)"
      ]
     },
     "execution_count": 110,
     "metadata": {},
     "output_type": "execute_result"
    }
   ],
   "source": [
    "sp = SelectPercentile(f_regression, percentile=10)\n",
    "\n",
    "X_sp = sp.fit_transform(X_r_scaled, scaled_target.ravel())\n",
    "list_param_sp = np.where(sp.get_support())[0]\n",
    "list_param_sp"
   ]
  },
  {
   "cell_type": "code",
   "execution_count": 111,
   "metadata": {},
   "outputs": [
    {
     "data": {
      "text/plain": [
       "array([ 1,  3,  6,  9, 24], dtype=int64)"
      ]
     },
     "execution_count": 111,
     "metadata": {},
     "output_type": "execute_result"
    }
   ],
   "source": [
    "model = GradientBoostingRegressor(max_depth=5, random_state=42, n_estimators=100)\n",
    "model.fit(X_r_scaled, scaled_target.ravel())\n",
    "sfm = SelectFromModel(model, max_features=5)\n",
    "X_sfm = sfm.fit_transform(X_r_scaled, scaled_target.ravel())\n",
    "list_param_sfm = np.where(sfm.get_support())[0]\n",
    "list_param_sfm"
   ]
  },
  {
   "cell_type": "code",
   "execution_count": 112,
   "metadata": {},
   "outputs": [
    {
     "data": {
      "text/plain": [
       "[0, 1, 3, 6, 7, 9, 23, 24]"
      ]
     },
     "execution_count": 112,
     "metadata": {},
     "output_type": "execute_result"
    }
   ],
   "source": [
    "result_list = list(set((*list_param_skb, *list_param_sp, *list_param_sfm)))\n",
    "result_list"
   ]
  },
  {
   "cell_type": "code",
   "execution_count": 113,
   "metadata": {},
   "outputs": [],
   "source": [
    "X_selected = X_r_scaled[:, result_list]"
   ]
  },
  {
   "cell_type": "code",
   "execution_count": 114,
   "metadata": {},
   "outputs": [],
   "source": [
    "def split_data( data, split_date ):\n",
    "    return data.loc[data.index.get_level_values('Date') <= split_date].copy(), \\\n",
    "           data.loc[data.index.get_level_values('Date') >  split_date].copy()"
   ]
  },
  {
   "cell_type": "code",
   "execution_count": 115,
   "metadata": {},
   "outputs": [],
   "source": [
    "train, test = split_data(data_w, '01-06-2016')"
   ]
  },
  {
   "cell_type": "code",
   "execution_count": 116,
   "metadata": {},
   "outputs": [],
   "source": [
    "X_train = X_selected[:train.shape[0], :]\n",
    "y_train = scaled_target[:train.shape[0], 0]\n",
    "X_test = X_selected[train.shape[0]:, :]\n",
    "y_test = scaled_target[train.shape[0]:, 0]"
   ]
  },
  {
   "cell_type": "code",
   "execution_count": 117,
   "metadata": {},
   "outputs": [],
   "source": [
    "from sklearn.model_selection import GridSearchCV\n",
    "\n",
    "from sklearn.metrics import r2_score"
   ]
  },
  {
   "cell_type": "code",
   "execution_count": 118,
   "metadata": {},
   "outputs": [],
   "source": [
    "param_dist = {\"max_depth\": [3, 2,10,14,5], \n",
    "              \"n_estimators\":[100,200,300,400,500, 1000, 1200,1500]}"
   ]
  },
  {
   "cell_type": "code",
   "execution_count": 119,
   "metadata": {},
   "outputs": [
    {
     "name": "stderr",
     "output_type": "stream",
     "text": [
      "D:\\Anaconda3\\lib\\site-packages\\sklearn\\model_selection\\_split.py:1978: FutureWarning: The default value of cv will change from 3 to 5 in version 0.22. Specify it explicitly to silence this warning.\n",
      "  warnings.warn(CV_WARNING, FutureWarning)\n",
      "D:\\Anaconda3\\lib\\site-packages\\sklearn\\model_selection\\_search.py:813: DeprecationWarning: The default of the `iid` parameter will change from True to False in version 0.22 and will be removed in 0.24. This will change numeric results when test-set sizes are unequal.\n",
      "  DeprecationWarning)\n"
     ]
    },
    {
     "data": {
      "text/plain": [
       "(0.5881852904437157, {'max_depth': 2, 'n_estimators': 200})"
      ]
     },
     "execution_count": 119,
     "metadata": {},
     "output_type": "execute_result"
    }
   ],
   "source": [
    "model_gb = GradientBoostingRegressor()\n",
    "\n",
    "search = GridSearchCV(model_gb, param_grid=param_dist, scoring='r2', n_jobs=-1)\n",
    "\n",
    "search.fit(X_train, y_train)\n",
    "search.best_score_, search.best_params_"
   ]
  },
  {
   "cell_type": "code",
   "execution_count": 120,
   "metadata": {},
   "outputs": [],
   "source": [
    "model_gb_b = GradientBoostingRegressor(max_depth=2, n_estimators=200)\n",
    "\n",
    "model_gb_b.fit(X_train, y_train)\n",
    "y_pred = model_gb_b.predict(X_test)"
   ]
  },
  {
   "cell_type": "code",
   "execution_count": 121,
   "metadata": {},
   "outputs": [
    {
     "data": {
      "text/plain": [
       "<matplotlib.legend.Legend at 0x21073725b38>"
      ]
     },
     "execution_count": 121,
     "metadata": {},
     "output_type": "execute_result"
    },
    {
     "data": {
      "image/png": "[encoded data removed]",
      "text/plain": [
       "<Figure size 1080x504 with 1 Axes>"
      ]
     },
     "metadata": {
      "needs_background": "light"
     },
     "output_type": "display_data"
    }
   ],
   "source": [
    "plt.figure(figsize=(15,7))\n",
    "\n",
    "plt.plot(test.index[h+p:], y_test, label='true')\n",
    "plt.plot(test.index[h+p:], y_pred, label='predicted')\n",
    "plt.legend()"
   ]
  },
  {
   "cell_type": "code",
   "execution_count": 122,
   "metadata": {},
   "outputs": [
    {
     "data": {
      "text/plain": [
       "0.6137776189841726"
      ]
     },
     "execution_count": 122,
     "metadata": {},
     "output_type": "execute_result"
    }
   ],
   "source": [
    "r2_score(y_test, y_pred)"
   ]
  },
  {
   "cell_type": "code",
   "execution_count": 137,
   "metadata": {},
   "outputs": [],
   "source": [
    "def mean_absolute_percentage_error(y_true, y_pred): \n",
    "    y_true, y_pred = np.array(y_true), np.array(y_pred)\n",
    "    return np.mean(np.abs((y_true - y_pred) / y_true)) * 100"
   ]
  },
  {
   "cell_type": "code",
   "execution_count": 138,
   "metadata": {},
   "outputs": [
    {
     "data": {
      "text/plain": [
       "6.375694125838556"
      ]
     },
     "execution_count": 138,
     "metadata": {},
     "output_type": "execute_result"
    }
   ],
   "source": [
    "mean_absolute_percentage_error(scl.inverse_transform(y_test), scl.inverse_transform(y_pred))"
   ]
  },
  {
   "cell_type": "markdown",
   "metadata": {},
   "source": [
    "Теперь построим модель с горизонтом предсказания h=1"
   ]
  },
  {
   "cell_type": "code",
   "execution_count": 123,
   "metadata": {},
   "outputs": [
    {
     "data": {
      "text/plain": [
       "(857, 1)"
      ]
     },
     "execution_count": 123,
     "metadata": {},
     "output_type": "execute_result"
    }
   ],
   "source": [
    "h=1\n",
    "scl_1 = StandardScaler()\n",
    "target_1 = data_w['PJME_MW'].values[h+p:].reshape((-1, 1))\n",
    "scaled_target_1 = scl_1.fit_transform(target_1)\n",
    "scaled_target_1.shape"
   ]
  },
  {
   "cell_type": "code",
   "execution_count": 124,
   "metadata": {},
   "outputs": [
    {
     "data": {
      "text/plain": [
       "(857, 33)"
      ]
     },
     "execution_count": 124,
     "metadata": {},
     "output_type": "execute_result"
    }
   ],
   "source": [
    "scl_x_1 = StandardScaler()\n",
    "\n",
    "X_r_1 = data_w.iloc[p:-h, :].values\n",
    "X_r_1_scaled = scl_x_1.fit_transform(X_r_1.astype('float64'))\n",
    "X_r_1_scaled.shape"
   ]
  },
  {
   "cell_type": "code",
   "execution_count": 125,
   "metadata": {},
   "outputs": [
    {
     "data": {
      "text/plain": [
       "array([ 0,  7,  9, 11, 17], dtype=int64)"
      ]
     },
     "execution_count": 125,
     "metadata": {},
     "output_type": "execute_result"
    }
   ],
   "source": [
    "skb_1 = SelectKBest(f_regression, k=5)\n",
    "\n",
    "X_1_skb = skb_1.fit_transform(X_r_1_scaled, scaled_target_1.ravel())\n",
    "list_param_skb_1 = np.where(skb_1.get_support())[0]\n",
    "list_param_skb_1"
   ]
  },
  {
   "cell_type": "code",
   "execution_count": 126,
   "metadata": {},
   "outputs": [
    {
     "data": {
      "text/plain": [
       "array([ 0,  9, 11, 17], dtype=int64)"
      ]
     },
     "execution_count": 126,
     "metadata": {},
     "output_type": "execute_result"
    }
   ],
   "source": [
    "sp_1 = SelectPercentile(f_regression, percentile=10)\n",
    "\n",
    "X_1_sp = sp_1.fit_transform(X_r_1_scaled, scaled_target_1.ravel())\n",
    "list_param_sp_1 = np.where(sp_1.get_support())[0]\n",
    "list_param_sp_1"
   ]
  },
  {
   "cell_type": "code",
   "execution_count": 127,
   "metadata": {},
   "outputs": [
    {
     "data": {
      "text/plain": [
       "array([ 0,  6,  9, 24], dtype=int64)"
      ]
     },
     "execution_count": 127,
     "metadata": {},
     "output_type": "execute_result"
    }
   ],
   "source": [
    "model = GradientBoostingRegressor(max_depth=5, random_state=42, n_estimators=100)\n",
    "model.fit(X_r_1_scaled, scaled_target_1.ravel())\n",
    "sfm_1 = SelectFromModel(model, max_features=5)\n",
    "X_1_sfm = sfm_1.fit_transform(X_r_1_scaled, scaled_target_1.ravel())\n",
    "list_param_sfm_1 = np.where(sfm_1.get_support())[0]\n",
    "list_param_sfm_1"
   ]
  },
  {
   "cell_type": "code",
   "execution_count": 128,
   "metadata": {},
   "outputs": [
    {
     "data": {
      "text/plain": [
       "[0, 6, 7, 9, 11, 17, 24]"
      ]
     },
     "execution_count": 128,
     "metadata": {},
     "output_type": "execute_result"
    }
   ],
   "source": [
    "result_list_1 = list(set((*list_param_skb_1, *list_param_sp_1, *list_param_sfm_1)))\n",
    "result_list_1"
   ]
  },
  {
   "cell_type": "code",
   "execution_count": 130,
   "metadata": {},
   "outputs": [],
   "source": [
    "X_1_selected = X_r_1_scaled[:, result_list]"
   ]
  },
  {
   "cell_type": "code",
   "execution_count": 131,
   "metadata": {},
   "outputs": [],
   "source": [
    "train_1, test_1 = split_data(data_w, '01-06-2016')"
   ]
  },
  {
   "cell_type": "code",
   "execution_count": 132,
   "metadata": {},
   "outputs": [],
   "source": [
    "X_train_1 = X_1_selected[:train_1.shape[0], :]\n",
    "y_train_1 = scaled_target_1[:train_1.shape[0], 0]\n",
    "X_test_1 = X_1_selected[train_1.shape[0]:, :]\n",
    "y_test_1 = scaled_target_1[train_1.shape[0]:, 0]"
   ]
  },
  {
   "cell_type": "code",
   "execution_count": 133,
   "metadata": {},
   "outputs": [
    {
     "name": "stderr",
     "output_type": "stream",
     "text": [
      "D:\\Anaconda3\\lib\\site-packages\\sklearn\\model_selection\\_split.py:1978: FutureWarning: The default value of cv will change from 3 to 5 in version 0.22. Specify it explicitly to silence this warning.\n",
      "  warnings.warn(CV_WARNING, FutureWarning)\n"
     ]
    },
    {
     "data": {
      "text/plain": [
       "(0.6750321806841648, {'max_depth': 2, 'n_estimators': 100})"
      ]
     },
     "execution_count": 133,
     "metadata": {},
     "output_type": "execute_result"
    }
   ],
   "source": [
    "model_gb = GradientBoostingRegressor()\n",
    "\n",
    "search = GridSearchCV(model_gb, param_grid=param_dist, scoring='r2', n_jobs=-1)\n",
    "\n",
    "search.fit(X_train_1, y_train_1)\n",
    "search.best_score_, search.best_params_"
   ]
  },
  {
   "cell_type": "code",
   "execution_count": 134,
   "metadata": {},
   "outputs": [],
   "source": [
    "model_gb_b_1 = GradientBoostingRegressor(max_depth=2, n_estimators=100)\n",
    "\n",
    "model_gb_b_1.fit(X_train_1, y_train_1)\n",
    "y_pred_1 = model_gb_b_1.predict(X_test_1)"
   ]
  },
  {
   "cell_type": "code",
   "execution_count": 135,
   "metadata": {},
   "outputs": [
    {
     "data": {
      "text/plain": [
       "<matplotlib.legend.Legend at 0x21073ce37f0>"
      ]
     },
     "execution_count": 135,
     "metadata": {},
     "output_type": "execute_result"
    },
    {
     "data": {
      "image/png": "[encoded data removed]",
      "text/plain": [
       "<Figure size 1080x504 with 1 Axes>"
      ]
     },
     "metadata": {
      "needs_background": "light"
     },
     "output_type": "display_data"
    }
   ],
   "source": [
    "plt.figure(figsize=(15,7))\n",
    "\n",
    "plt.plot(test_1.index[h+p:], y_test_1, label='true')\n",
    "plt.plot(test_1.index[h+p:], y_pred_1, label='predicted')\n",
    "plt.legend()"
   ]
  },
  {
   "cell_type": "code",
   "execution_count": 136,
   "metadata": {},
   "outputs": [
    {
     "data": {
      "text/plain": [
       "0.6278970107187194"
      ]
     },
     "execution_count": 136,
     "metadata": {},
     "output_type": "execute_result"
    }
   ],
   "source": [
    "r2_score(y_test_1, y_pred_1)"
   ]
  },
  {
   "cell_type": "code",
   "execution_count": 139,
   "metadata": {},
   "outputs": [
    {
     "data": {
      "text/plain": [
       "6.392014750436722"
      ]
     },
     "execution_count": 139,
     "metadata": {},
     "output_type": "execute_result"
    }
   ],
   "source": [
    "mean_absolute_percentage_error(scl_1.inverse_transform(y_test_1), scl_1.inverse_transform(y_pred_1))"
   ]
  },
  {
   "cell_type": "code",
   "execution_count": 142,
   "metadata": {},
   "outputs": [
    {
     "data": {
      "image/png": "[encoded data removed]",
      "text/plain": [
       "<Figure size 432x288 with 1 Axes>"
      ]
     },
     "metadata": {
      "needs_background": "light"
     },
     "output_type": "display_data"
    }
   ],
   "source": [
    "lag=10\n",
    "p_cor=[np.corrcoef( y_test_1, y_pred_1)[1,0]]\n",
    "for i in range(lag):\n",
    "    c=np.corrcoef( y_test_1[:-(i+1)], y_pred_1[(i+1):])[1,0]\n",
    "    p_cor.append(c)    \n",
    "\n",
    "plt.plot(np.array(p_cor) )  \n",
    "plt.xlabel('лаг корреляции')\n",
    "plt.ylabel('cor_coeff')\n",
    "plt.title('корреляция цели и предсказаний с лагом просмотра')\n",
    "plt.show()"
   ]
  },
  {
   "cell_type": "code",
   "execution_count": 143,
   "metadata": {},
   "outputs": [
    {
     "data": {
      "text/plain": [
       "Index(['PJME_MW', 'pca1', 'pca2', 'log', 'rolling4', 't1', 't8'], dtype='object')"
      ]
     },
     "execution_count": 143,
     "metadata": {},
     "output_type": "execute_result"
    }
   ],
   "source": [
    "data_w.columns[result_list_1]"
   ]
  },
  {
   "cell_type": "code",
   "execution_count": 154,
   "metadata": {},
   "outputs": [
    {
     "data": {
      "text/plain": [
       "<matplotlib.legend.Legend at 0x21075742dd8>"
      ]
     },
     "execution_count": 154,
     "metadata": {},
     "output_type": "execute_result"
    },
    {
     "data": {
      "image/png": "[encoded data removed]",
      "text/plain": [
       "<Figure size 1080x504 with 1 Axes>"
      ]
     },
     "metadata": {
      "needs_background": "light"
     },
     "output_type": "display_data"
    }
   ],
   "source": [
    "X_test_auto = X_test_1.copy()\n",
    "y_test_auto = y_test_1.copy()\n",
    "N=18\n",
    "for i in range(p, p+N):\n",
    "    y_test_auto[i] = model_gb_b_1.predict(X_test_auto[i, :].reshape((1, -1)))\n",
    "    y_i = scl_1.inverse_transform(y_test_auto[i:i+1])\n",
    "    \n",
    "    X_test_auto[i+1, 0] = (y_i - scl_x_1.mean_[0])/scl_x_1.scale_[0]\n",
    "    X_test_auto[i+1, 3] = np.log(y_i)\n",
    "    X_test_auto[i+1, 5] = X_test_auto[i-1, 0]\n",
    "    X_test_auto[i+1, 6] = X_test_auto[i-8, 0]\n",
    "\n",
    "plt.figure(figsize=(15,7))\n",
    "plt.plot(test_1.index[1:N+1], y_test_1[:N], label='true')\n",
    "plt.plot(test_1.index[1:N+1], y_pred_1[:N], label='predicted')\n",
    "plt.plot(test_1.index[1:N+1], y_test_auto[:N], '--g', label='autorecursion')\n",
    "plt.plot(test.index[4:N+4], y_pred[:N], 'r', label='predicted with h=4')\n",
    "plt.legend()"
   ]
  },
  {
   "cell_type": "code",
   "execution_count": 156,
   "metadata": {},
   "outputs": [
    {
     "name": "stdout",
     "output_type": "stream",
     "text": [
      "Ошибка для первых 10 точек: 8.009575593098207\n",
      "Ошибка для первых 20 точек: 9.817943650100682\n",
      "Ошибка для первых 30 точек: 9.2502167129079\n",
      "Ошибка для первых 40 точек: 8.457740008362387\n",
      "Ошибка для первых 50 точек: 8.46230582535757\n",
      "Ошибка для первых 60 точек: 8.615340587820008\n",
      "Ошибка для первых 70 точек: 9.296289494152159\n",
      "Ошибка для первых 80 точек: 9.313755886126227\n",
      "Ошибка для первых 90 точек: 9.551106439652141\n",
      "Ошибка для первых 100 точек: 9.485640397036722\n"
     ]
    }
   ],
   "source": [
    "X_test_100 = X_test_1.copy()\n",
    "y_test_100 = y_test_1.copy()\n",
    "for i in range(p, p+101):\n",
    "    y_test_auto[i] = model_gb_b_1.predict(X_test_auto[i, :].reshape((1, -1)))\n",
    "    y_i = scl_1.inverse_transform(y_test_auto[i:i+1])\n",
    "    \n",
    "    X_test_auto[i+1, 0] = (y_i - scl_x_1.mean_[0])/scl_x_1.scale_[0]\n",
    "    X_test_auto[i+1, 3] = np.log(y_i)\n",
    "    X_test_auto[i+1, 5] = X_test_auto[i-1, 0]\n",
    "    X_test_auto[i+1, 6] = X_test_auto[i-8, 0]\n",
    "    if (i-p)%10 == 0 and i-p != 0:\n",
    "        err = mean_absolute_percentage_error(scl_1.inverse_transform(y_test[:i]), scl_1.inverse_transform(y_test_100[:i]))\n",
    "        print(f'Ошибка для первых {i-p} точек: {err}')"
   ]
  },
  {
   "cell_type": "markdown",
   "metadata": {},
   "source": [
    "Ошибка имеет теннденцию на увеличение при увеличении дальности прогноза рекурсивного метода."
   ]
  },
  {
   "cell_type": "code",
   "execution_count": null,
   "metadata": {},
   "outputs": [],
   "source": []
  }
 ],
 "metadata": {
  "kernelspec": {
   "display_name": "Python 3",
   "language": "python",
   "name": "python3"
  },
  "language_info": {
   "codemirror_mode": {
    "name": "ipython",
    "version": 3
   },
   "file_extension": ".py",
   "mimetype": "text/x-python",
   "name": "python",
   "nbconvert_exporter": "python",
   "pygments_lexer": "ipython3",
   "version": "3.7.3"
  }
 },
 "nbformat": 4,
 "nbformat_minor": 2
}
